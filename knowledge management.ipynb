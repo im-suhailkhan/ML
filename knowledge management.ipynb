{
 "cells": [
  {
   "cell_type": "code",
   "execution_count": 1,
   "metadata": {},
   "outputs": [],
   "source": [
    "import os\n",
    "\n",
    "# Load data preprocessing libs\n",
    "import pandas as pd\n",
    "import numpy as np\n",
    "import re\n",
    "\n",
    "# Load vectorizer and similarity measure\n",
    "from sklearn.feature_extraction.text import TfidfVectorizer\n",
    "from sklearn.metrics.pairwise import cosine_similarity\n",
    "\n",
    "from flask import Flask, render_template, request\n"
   ]
  },
  {
   "cell_type": "code",
   "execution_count": null,
   "metadata": {},
   "outputs": [],
   "source": []
  },
  {
   "cell_type": "code",
   "execution_count": 2,
   "metadata": {},
   "outputs": [],
   "source": [
    "#Reading the Questions and Answers\n",
    "df = pd.read_excel(\"sana.xlsx\")\n",
    "\n",
    "#Dropping any Null Entries\n",
    "df.dropna(inplace=True)\n",
    "\n",
    "#df.shape\n",
    "#Initializing TFIDF Vectorization\n",
    "#vectorizer = TfidfVectorizer()\n",
    "#vectorizer.fit(np.concatenate((df.Question, df.Answer)))\n",
    "\n",
    "#Converting the questions to vectors\n",
    "#Question_vectors = vectorizer.transform(df.Question)\n",
    "df.columns\n",
    "df.drop(df.columns[0], axis=1, inplace=True)"
   ]
  },
  {
   "cell_type": "code",
   "execution_count": 3,
   "metadata": {
    "scrolled": true
   },
   "outputs": [
    {
     "data": {
      "text/plain": [
       "Index(['Story', 'Question', 'Answer'], dtype='object')"
      ]
     },
     "execution_count": 3,
     "metadata": {},
     "output_type": "execute_result"
    }
   ],
   "source": [
    "df.columns"
   ]
  },
  {
   "cell_type": "code",
   "execution_count": 4,
   "metadata": {},
   "outputs": [
    {
     "data": {
      "text/plain": [
       "(10, 3)"
      ]
     },
     "execution_count": 4,
     "metadata": {},
     "output_type": "execute_result"
    }
   ],
   "source": [
    "df.shape"
   ]
  },
  {
   "cell_type": "code",
   "execution_count": 5,
   "metadata": {
    "scrolled": false
   },
   "outputs": [
    {
     "data": {
      "text/plain": [
       "TfidfVectorizer(analyzer='word', binary=False, decode_error='strict',\n",
       "                dtype=<class 'numpy.float64'>, encoding='utf-8',\n",
       "                input='content', lowercase=True, max_df=1.0, max_features=None,\n",
       "                min_df=1, ngram_range=(1, 1), norm='l2', preprocessor=None,\n",
       "                smooth_idf=True, stop_words=None, strip_accents=None,\n",
       "                sublinear_tf=False, token_pattern='(?u)\\\\b\\\\w\\\\w+\\\\b',\n",
       "                tokenizer=None, use_idf=True, vocabulary=None)"
      ]
     },
     "execution_count": 5,
     "metadata": {},
     "output_type": "execute_result"
    }
   ],
   "source": [
    "#Initializing TFIDF Vectorization\n",
    "vectorizer = TfidfVectorizer()\n",
    "vectorizer.fit(np.concatenate((df.Story,df.Question, df.Answer)))"
   ]
  },
  {
   "cell_type": "code",
   "execution_count": 6,
   "metadata": {},
   "outputs": [],
   "source": [
    "#Converting the questions to vectors\n",
    "Question_vectors = vectorizer.transform(df.Question)"
   ]
  },
  {
   "cell_type": "code",
   "execution_count": 19,
   "metadata": {},
   "outputs": [],
   "source": [
    "def chat(Text:str):\n",
    "    \n",
    "    if(Text!='bye'):\n",
    "        if(Text=='thanks' or Text=='thank you' ):\n",
    "            return(\"You are welcome..\")\n",
    "        if(Text=='Hi' or Text=='hi' ):\n",
    "            return(\"Hi,Keep rocking\")\n",
    "        else:\n",
    "            # Read user input\n",
    "            input_question = Text\n",
    "\n",
    "            # Locate the closest question\n",
    "            input_question_vector = vectorizer.transform([input_question])\n",
    "\n",
    "            # Compute similarities\n",
    "            similarities = cosine_similarity(input_question_vector, Question_vectors)\n",
    "\n",
    "            # Find the closest question\n",
    "            closest = np.argmax(similarities, axis=1)\n",
    "\n",
    "            return(\"BOT: \" + df.Answer.iloc[closest].values[0])\n",
    "    else:\n",
    "        return(\"CGI: Bye! take care..\")"
   ]
  },
  {
   "cell_type": "code",
   "execution_count": null,
   "metadata": {},
   "outputs": [],
   "source": []
  },
  {
   "cell_type": "code",
   "execution_count": null,
   "metadata": {
    "scrolled": false
   },
   "outputs": [
    {
     "name": "stdout",
     "output_type": "stream",
     "text": [
      " * Serving Flask app \"__main__\" (lazy loading)\n",
      " * Environment: production\n",
      "   WARNING: This is a development server. Do not use it in a production deployment.\n",
      "   Use a production WSGI server instead.\n",
      " * Debug mode: off\n"
     ]
    },
    {
     "name": "stderr",
     "output_type": "stream",
     "text": [
      " * Running on http://127.0.0.1:5000/ (Press CTRL+C to quit)\n",
      "127.0.0.1 - - [30/Jun/2020 17:09:42] \"\u001b[37mGET / HTTP/1.1\u001b[0m\" 200 -\n",
      "127.0.0.1 - - [30/Jun/2020 17:09:42] \"\u001b[33mGET /static/style.css HTTP/1.1\u001b[0m\" 404 -\n",
      "127.0.0.1 - - [30/Jun/2020 17:09:42] \"\u001b[33mGET /static/images/Capture.JPG HTTP/1.1\u001b[0m\" 404 -\n",
      "127.0.0.1 - - [30/Jun/2020 17:09:45] \"\u001b[37mGET /get?msg=hi HTTP/1.1\u001b[0m\" 200 -\n",
      "127.0.0.1 - - [30/Jun/2020 17:09:55] \"\u001b[37mGET /get?msg=what%20is%20my%20name HTTP/1.1\u001b[0m\" 200 -\n",
      "127.0.0.1 - - [30/Jun/2020 17:10:01] \"\u001b[37mGET /get?msg=when%20i%20was%20born HTTP/1.1\u001b[0m\" 200 -\n",
      "127.0.0.1 - - [30/Jun/2020 17:10:10] \"\u001b[37mGET /get?msg=who%20are%20my%20friends HTTP/1.1\u001b[0m\" 200 -\n",
      "127.0.0.1 - - [30/Jun/2020 17:10:16] \"\u001b[37mGET /get?msg=bye HTTP/1.1\u001b[0m\" 200 -\n",
      "127.0.0.1 - - [30/Jun/2020 22:10:00] \"\u001b[37mGET /get?msg=hi HTTP/1.1\u001b[0m\" 200 -\n"
     ]
    }
   ],
   "source": [
    "app = Flask(__name__, template_folder='C:/Users\\su.khan\\Desktop')\n",
    "\n",
    "@app.route(\"/\")\n",
    "def index():\n",
    "    return render_template(\"sana.html\")\n",
    "\n",
    "@app.route(\"/get\")\n",
    "#function for the bot response\n",
    "def get_bot_response():\n",
    "    \n",
    "    userText = request.args.get('msg')\n",
    "    \n",
    "    response = chat(userText)\n",
    "            \n",
    "    return response\n",
    "\n",
    "\n",
    "if __name__ == \"__main__\":\n",
    "    app.run()\n",
    "#port='8080'"
   ]
  },
  {
   "cell_type": "code",
   "execution_count": null,
   "metadata": {},
   "outputs": [],
   "source": []
  },
  {
   "cell_type": "code",
   "execution_count": null,
   "metadata": {},
   "outputs": [],
   "source": []
  }
 ],
 "metadata": {
  "kernelspec": {
   "display_name": "Python 3",
   "language": "python",
   "name": "python3"
  },
  "language_info": {
   "codemirror_mode": {
    "name": "ipython",
    "version": 3
   },
   "file_extension": ".py",
   "mimetype": "text/x-python",
   "name": "python",
   "nbconvert_exporter": "python",
   "pygments_lexer": "ipython3",
   "version": "3.7.4"
  }
 },
 "nbformat": 4,
 "nbformat_minor": 2
}
